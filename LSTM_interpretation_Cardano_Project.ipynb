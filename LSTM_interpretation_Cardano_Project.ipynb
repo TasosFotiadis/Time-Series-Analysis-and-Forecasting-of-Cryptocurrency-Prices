{
  "nbformat": 4,
  "nbformat_minor": 0,
  "metadata": {
    "colab": {
      "private_outputs": true,
      "provenance": [],
      "toc_visible": true
    },
    "kernelspec": {
      "name": "python3",
      "display_name": "Python 3"
    },
    "language_info": {
      "name": "python"
    }
  },
  "cells": [
    {
      "cell_type": "markdown",
      "source": [
        "## **LSTM implementation**\n",
        "\n",
        "We implement the LSTM method in order to compare it to the ARIMA model."
      ],
      "metadata": {
        "id": "NNAM8aajSAWE"
      }
    },
    {
      "cell_type": "markdown",
      "source": [
        "### **Data Preparation**\n",
        "\n",
        "We want to feed the data into an LSTM. So, we have to scale the time series and structure it into sequences."
      ],
      "metadata": {
        "id": "UzuayWWkS8SI"
      }
    },
    {
      "cell_type": "markdown",
      "source": [
        "* We begin by importing the necessary libraries for our study."
      ],
      "metadata": {
        "id": "CzyHJWAXSKqh"
      }
    },
    {
      "cell_type": "code",
      "execution_count": null,
      "metadata": {
        "id": "CS3Zt8nzR2UT"
      },
      "outputs": [],
      "source": [
        "import numpy as np\n",
        "import pandas as pd\n",
        "from sklearn.preprocessing import MinMaxScaler\n",
        "from tensorflow.keras.models import Sequential\n",
        "from tensorflow.keras.layers import LSTM, Dense"
      ]
    },
    {
      "cell_type": "markdown",
      "source": [
        "* Then, we load the dataset and ensure your 'Close' column is available and transform the \"date\" column to datetime format."
      ],
      "metadata": {
        "id": "BmlWxehVSYpf"
      }
    },
    {
      "cell_type": "code",
      "source": [
        "data = pd.read_csv(\"coin_Cardano.csv\")\n",
        "data['Date'] = pd.to_datetime(data['Date'])\n",
        "data = data.sort_values(by='Date')"
      ],
      "metadata": {
        "id": "8oYPoy8ESZJH"
      },
      "execution_count": null,
      "outputs": []
    },
    {
      "cell_type": "markdown",
      "source": [
        "* After that we select the Close column and scale it"
      ],
      "metadata": {
        "id": "-j4xe7iXSkqB"
      }
    },
    {
      "cell_type": "code",
      "source": [
        "scaler = MinMaxScaler(feature_range=(0, 1))\n",
        "data['Close_Scaled'] = scaler.fit_transform(data[['Close']])"
      ],
      "metadata": {
        "id": "J0SPWK7YSo4n"
      },
      "execution_count": null,
      "outputs": []
    },
    {
      "cell_type": "markdown",
      "source": [
        "* Next, we create sequences for LSTM"
      ],
      "metadata": {
        "id": "As8yymz8SqnU"
      }
    },
    {
      "cell_type": "code",
      "source": [
        "def create_sequences(data, seq_length):\n",
        "    sequences = []\n",
        "    targets = []\n",
        "    for i in range(len(data) - seq_length):\n",
        "        seq = data[i:i + seq_length]\n",
        "        target = data[i + seq_length]\n",
        "        sequences.append(seq)\n",
        "        targets.append(target)\n",
        "    return np.array(sequences), np.array(targets)"
      ],
      "metadata": {
        "id": "HRZYA5WTSvzr"
      },
      "execution_count": null,
      "outputs": []
    },
    {
      "cell_type": "code",
      "source": [
        "sequence_length = 30\n",
        "sequences, targets = create_sequences(data['Close_Scaled'].values, sequence_length)"
      ],
      "metadata": {
        "id": "d2Wn2A8eS2Zu"
      },
      "execution_count": null,
      "outputs": []
    },
    {
      "cell_type": "markdown",
      "source": [
        "### **Split into Training and Testing Sets**\n",
        "\n"
      ],
      "metadata": {
        "id": "yS9NwWvVTDR3"
      }
    },
    {
      "cell_type": "code",
      "source": [
        "train_size = int(len(sequences) * 0.8)\n",
        "X_train, X_test = sequences[:train_size], sequences[train_size:]\n",
        "y_train, y_test = targets[:train_size], targets[train_size:]"
      ],
      "metadata": {
        "id": "0KfCV7_bTY9w"
      },
      "execution_count": null,
      "outputs": []
    },
    {
      "cell_type": "markdown",
      "source": [
        "### **Build and Train the LSTM Model**\n",
        "\n",
        "So we can predict the next close price."
      ],
      "metadata": {
        "id": "vRwezvYFTZ36"
      }
    },
    {
      "cell_type": "markdown",
      "source": [
        "* First, we define the LSTM model"
      ],
      "metadata": {
        "id": "or9kFu_DTi3D"
      }
    },
    {
      "cell_type": "code",
      "source": [
        "model = Sequential()\n",
        "model.add(LSTM(50, return_sequences=False, input_shape=(sequence_length, 1)))\n",
        "model.add(Dense(1))  # Output layer\n",
        "model.compile(optimizer='adam', loss='mean_squared_error')"
      ],
      "metadata": {
        "id": "3DmLMtB7TgB-"
      },
      "execution_count": null,
      "outputs": []
    },
    {
      "cell_type": "markdown",
      "source": [
        "* And then we train it"
      ],
      "metadata": {
        "id": "I5iwJwWzTmkd"
      }
    },
    {
      "cell_type": "code",
      "source": [
        "X_train_reshaped = X_train.reshape((X_train.shape[0], X_train.shape[1], 1))\n",
        "X_test_reshaped = X_test.reshape((X_test.shape[0], X_test.shape[1], 1))\n",
        "\n",
        "history = model.fit(X_train_reshaped, y_train, epochs=20, batch_size=32, validation_data=(X_test_reshaped, y_test))"
      ],
      "metadata": {
        "collapsed": true,
        "id": "2TdD80XbTqO9"
      },
      "execution_count": null,
      "outputs": []
    },
    {
      "cell_type": "markdown",
      "source": [
        "### **LSTM Evaluation**\n",
        "\n"
      ],
      "metadata": {
        "id": "X-O9Xcj_Ttjj"
      }
    },
    {
      "cell_type": "markdown",
      "source": [
        "* We begin by generating predictions"
      ],
      "metadata": {
        "id": "M8hyJNhHT-Zs"
      }
    },
    {
      "cell_type": "code",
      "source": [
        "y_pred = model.predict(X_test_reshaped)"
      ],
      "metadata": {
        "id": "9BpluX79T23Y"
      },
      "execution_count": null,
      "outputs": []
    },
    {
      "cell_type": "markdown",
      "source": [
        "* Then, we rescale the predictions back to their original scale"
      ],
      "metadata": {
        "id": "Ku0odeUgUBrU"
      }
    },
    {
      "cell_type": "code",
      "source": [
        "y_pred_rescaled = scaler.inverse_transform(y_pred)\n",
        "y_test_rescaled = scaler.inverse_transform(y_test.reshape(-1, 1))"
      ],
      "metadata": {
        "id": "7rqhR-_OUMcx"
      },
      "execution_count": null,
      "outputs": []
    },
    {
      "cell_type": "markdown",
      "source": [
        "* And then we calculate the metrics (MAE, MSE, MAPE)"
      ],
      "metadata": {
        "id": "S2aVyc9GUFJ2"
      }
    },
    {
      "cell_type": "code",
      "source": [
        "from sklearn.metrics import mean_absolute_error, mean_squared_error\n",
        "\n",
        "mae = mean_absolute_error(y_test_rescaled, y_pred_rescaled)\n",
        "mse = mean_squared_error(y_test_rescaled, y_pred_rescaled)\n",
        "mape = np.mean(np.abs((y_test_rescaled - y_pred_rescaled) / y_test_rescaled)) * 100\n",
        "\n",
        "print(f\"LSTM Performance:\\nMAE: {mae}\\nMSE: {mse}\\nMAPE: {mape}%\")"
      ],
      "metadata": {
        "id": "ABmoT2uxUOd3"
      },
      "execution_count": null,
      "outputs": []
    },
    {
      "cell_type": "markdown",
      "source": [
        "### **Results Plots**"
      ],
      "metadata": {
        "id": "BiPvMLIPUR_t"
      }
    },
    {
      "cell_type": "code",
      "source": [
        "import matplotlib.pyplot as plt\n",
        "\n",
        "plt.figure(figsize=(12, 6))\n",
        "plt.plot(y_test_rescaled, label='Actual Close Price')\n",
        "plt.plot(y_pred_rescaled, label='LSTM Predicted Close Price')\n",
        "plt.title('LSTM Forecast vs Actual')\n",
        "plt.xlabel('Time')\n",
        "plt.ylabel('Close Price')\n",
        "plt.legend()\n",
        "plt.show()"
      ],
      "metadata": {
        "id": "uXfaQGWgUWwP"
      },
      "execution_count": null,
      "outputs": []
    }
  ]
}