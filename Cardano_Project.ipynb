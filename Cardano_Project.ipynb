{
  "cells": [
    {
      "cell_type": "markdown",
      "metadata": {
        "id": "_4O-4doGXXpJ"
      },
      "source": [
        "# **Final Project: Time Series Analysis and Forecasting**\n",
        "\n",
        "### By Anastasios Fotiadis \n",
        "\n",
        "---"
      ]
    },
    {
      "cell_type": "markdown",
      "metadata": {
        "id": "bBUBoj9QaqDJ"
      },
      "source": [
        "## **Intro: Dataset Explanation**\n",
        "\n",
        "Our dataset selection is a csv file called: \"coin_Cardano.csv\". The dataset contains historical data for the cryptocurrency called \"Cardano\" (ADA), spannining 1374 daily observations. So, in total, the dataset has 1374 rows, with 10 columns (features) and the time span is from October 2, 2017 to July 6, 2021.\n",
        "Each record contains essential information about the asset's trading activity and includes the following features:\n",
        "\n",
        "* SNo: Serial number of the record.\n",
        "* Name: The name of the cryptocurrency, Cardano (ADA).\n",
        "* Symbol: The ticker symbol: \"ADA.\"\n",
        "* Date: The timestamp of the recorded data\n",
        "* High, Low, Open, Close: Daily highest, lowest, opening and closing prices, respectively.\n",
        "* Volume: The total trading volume in ADA units (market activity for each day).\n",
        "* Marketcap: The total market capitalization of Cardano for the day.\n",
        "\n",
        "We have a complete dataset, without any missing values and is spanning in a significant time frame, making it suitable for our project.\n",
        "\n",
        "---\n"
      ]
    },
    {
      "cell_type": "markdown",
      "metadata": {
        "id": "pMJ7oVktkk95"
      },
      "source": [
        "## **1st step: Data Collection and Preparation**\n",
        "\n",
        "We begin our project by adding all the necessary libraries for our R script. More precisely we include:\n",
        "* **tidyverse** for data manipulation and visualization\n",
        "* **tsibble** for time series data structure\n",
        "* **feasts** for time series decomposition and visualization\n",
        "* **fable** for forecasting models\n",
        "* **lubridate** for working with dates\n",
        "\n",
        "Following that, we import our dataset \"coin_Cardano.csv\" in order to handle the data for our tasks."
      ]
    },
    {
      "cell_type": "code",
      "execution_count": null,
      "metadata": {
        "id": "w-Hg-9EDl4cM",
        "vscode": {
          "languageId": "r"
        }
      },
      "outputs": [],
      "source": [
        "install.packages(c(\"tsibble\", \"feasts\", \"fable\"))"
      ]
    },
    {
      "cell_type": "code",
      "execution_count": null,
      "metadata": {
        "collapsed": true,
        "id": "l-x90ctNXTtt",
        "vscode": {
          "languageId": "r"
        }
      },
      "outputs": [],
      "source": [
        "library(tidyverse)\n",
        "library(tsibble)\n",
        "library(feasts)\n",
        "library(fable)\n",
        "library(lubridate)"
      ]
    },
    {
      "cell_type": "markdown",
      "metadata": {
        "id": "InwTJcLblqZk"
      },
      "source": [
        "Then, we clean and prepare the data, by converting the \"Date\" column to date type and arrange the data by date, to ensure the dataset is in ascending order of time"
      ]
    },
    {
      "cell_type": "code",
      "execution_count": null,
      "metadata": {
        "id": "DU-aJ6GLnllO",
        "vscode": {
          "languageId": "r"
        }
      },
      "outputs": [],
      "source": [
        "data <- read.csv(\"coin_Cardano.csv\")\n",
        "\n",
        "str(data)\n",
        "head(data)"
      ]
    },
    {
      "cell_type": "code",
      "execution_count": null,
      "metadata": {
        "id": "S4vu3iaCwwFR",
        "vscode": {
          "languageId": "r"
        }
      },
      "outputs": [],
      "source": [
        "data <- data %>%\n",
        "  mutate(Date = ymd_hms(Date)) %>%\n",
        "  arrange(Date)"
      ]
    },
    {
      "cell_type": "markdown",
      "metadata": {
        "id": "RgDJ6vQGn-P4"
      },
      "source": [
        "We continue by creating a tsibble object which is required for analysis with our packages (tsibble and fable).\n",
        "\n",
        "\n",
        "---\n",
        "**PS**\n",
        "\n",
        "We had an issue with our dataset, while creating the tsibble component, so we normalized the **Date** column to remove the time component and retain only the date. This was done because tsibble requires a regular temporal index, and having specific times, even if consistent, can cause validation errors. So, we exclude the **time** component from the dataset, because the entries are daily and time does not add any meaningfull info.\n",
        "\n",
        "---"
      ]
    },
    {
      "cell_type": "code",
      "execution_count": null,
      "metadata": {
        "id": "m9IiTHSw1-2x",
        "vscode": {
          "languageId": "r"
        }
      },
      "outputs": [],
      "source": [
        "data <- data %>%\n",
        "  mutate(Date = as.Date(Date))"
      ]
    },
    {
      "cell_type": "code",
      "execution_count": null,
      "metadata": {
        "id": "BvdaUMFG2BIk",
        "vscode": {
          "languageId": "r"
        }
      },
      "outputs": [],
      "source": [
        "data_tsibble <- data %>%\n",
        "  as_tsibble(index = Date)"
      ]
    },
    {
      "cell_type": "markdown",
      "metadata": {
        "id": "nmp6_mDc3qmo"
      },
      "source": [
        "We proceed with the visualization and the summary of the dataset."
      ]
    },
    {
      "cell_type": "code",
      "execution_count": null,
      "metadata": {
        "id": "BMD9LbbN4NSL",
        "vscode": {
          "languageId": "r"
        }
      },
      "outputs": [],
      "source": [
        "summary(data_tsibble)"
      ]
    },
    {
      "cell_type": "markdown",
      "metadata": {
        "id": "8-6lS8xy5ikm"
      },
      "source": [
        "### **Summary**\n",
        "We can see that the dataset captures daily historical data for Cardano (ADA) from October 2, 2017, to July 6, 2021, encompassing 1,374 observations. Key metrics include Close prices, which range from $0.01854 to $2.30911, with a mean of $0.25631. The dataset also shows significant trading volume variability, from $1.74M to $19.14B. The Marketcap similarly fluctuates, with values between $480.7M and $73.77B, reflecting the volatile nature of cryptocurrency markets.\n"
      ]
    },
    {
      "cell_type": "code",
      "execution_count": null,
      "metadata": {
        "id": "iAlgDmrJ4qWR",
        "vscode": {
          "languageId": "r"
        }
      },
      "outputs": [],
      "source": [
        "autoplot(data_tsibble, Close) +\n",
        "  labs(title = \"Cardano (ADA) Close Price Over Time\")"
      ]
    },
    {
      "cell_type": "markdown",
      "metadata": {
        "id": "YxuihUW95umH"
      },
      "source": [
        "### **Plot**\n",
        "The plot of Close prices over time highlights two major trends: a sharp increase in 2018, followed by a prolonged plateau, and another dramatic rise in late 2020 and early 2021, indicative of high market volatility and speculative behavior."
      ]
    },
    {
      "cell_type": "markdown",
      "metadata": {
        "id": "Wg7XAWJu6KfK"
      },
      "source": [
        "### **Missing Values**\n",
        "\n"
      ]
    },
    {
      "cell_type": "code",
      "execution_count": null,
      "metadata": {
        "id": "TafpmJUS6RZ1",
        "vscode": {
          "languageId": "r"
        }
      },
      "outputs": [],
      "source": [
        "colSums(is.na(data_tsibble))"
      ]
    },
    {
      "cell_type": "markdown",
      "metadata": {
        "id": "TdRt4qzu6Ujg"
      },
      "source": [
        "To ensure the integrity of the dataset, a check for missing values was conducted using the is.na() function. The results confirmed that all columns, contained no missing values. Therefore, no imputation or further handling of missing data was required."
      ]
    },
    {
      "cell_type": "markdown",
      "metadata": {
        "id": "GfyPqbYH6dDd"
      },
      "source": [
        "---\n",
        "\n",
        "## **2nd step: Time Series Visualization**\n",
        "\n",
        "* Each autoplot visualizes one variable (High, Low, Open, Close) against Date.\n",
        "* These plots provide insights into price trends; long-term changes in High, Low, Open, and Close, as well as, market dynamics; variability in Volume and Marketcap."
      ]
    },
    {
      "cell_type": "code",
      "execution_count": null,
      "metadata": {
        "id": "8YuoxZK29hVJ",
        "vscode": {
          "languageId": "r"
        }
      },
      "outputs": [],
      "source": [
        "autoplot(data_tsibble, High) +\n",
        "  labs(\n",
        "    title = \"Cardano (ADA) High Price Over Time\",\n",
        "    x = \"Date\",\n",
        "    y = \"High Price (USD)\"\n",
        "  )"
      ]
    },
    {
      "cell_type": "code",
      "execution_count": null,
      "metadata": {
        "id": "mHUlfZ6K9kSL",
        "vscode": {
          "languageId": "r"
        }
      },
      "outputs": [],
      "source": [
        "autoplot(data_tsibble, Low) +\n",
        "  labs(\n",
        "    title = \"Cardano (ADA) Low Price Over Time\",\n",
        "    x = \"Date\",\n",
        "    y = \"Low Price (USD)\"\n",
        "  )"
      ]
    },
    {
      "cell_type": "code",
      "execution_count": null,
      "metadata": {
        "id": "8XvdwvJ09lwm",
        "vscode": {
          "languageId": "r"
        }
      },
      "outputs": [],
      "source": [
        "autoplot(data_tsibble, Open) +\n",
        "  labs(\n",
        "    title = \"Cardano (ADA) Open Price Over Time\",\n",
        "    x = \"Date\",\n",
        "    y = \"Open Price (USD)\"\n",
        "  )"
      ]
    },
    {
      "cell_type": "code",
      "execution_count": null,
      "metadata": {
        "id": "6KNKvNr09pgL",
        "vscode": {
          "languageId": "r"
        }
      },
      "outputs": [],
      "source": [
        "autoplot(data_tsibble, Close) +\n",
        "  labs(\n",
        "    title = \"Cardano (ADA) Close Price Over Time\",\n",
        "    x = \"Date\",\n",
        "    y = \"Close Price (USD)\"\n",
        "  )"
      ]
    },
    {
      "cell_type": "code",
      "execution_count": null,
      "metadata": {
        "id": "X0yeIWJ59qEp",
        "vscode": {
          "languageId": "r"
        }
      },
      "outputs": [],
      "source": [
        "autoplot(data_tsibble, Volume) +\n",
        "  labs(\n",
        "    title = \"Cardano (ADA) Trading Volume Over Time\",\n",
        "    x = \"Date\",\n",
        "    y = \"Volume (ADA)\"\n",
        "  )"
      ]
    },
    {
      "cell_type": "code",
      "execution_count": null,
      "metadata": {
        "id": "Guj6bWgM9thW",
        "vscode": {
          "languageId": "r"
        }
      },
      "outputs": [],
      "source": [
        "autoplot(data_tsibble, Marketcap) +\n",
        "  labs(\n",
        "    title = \"Cardano (ADA) Market Capitalization Over Time\",\n",
        "    x = \"Date\",\n",
        "    y = \"Marketcap (USD)\"\n",
        "  )"
      ]
    },
    {
      "cell_type": "markdown",
      "metadata": {
        "id": "Bknl7ByIAf7S"
      },
      "source": [
        "### **Trends and Patterns**\n",
        "The High, Low, Open, and Close prices exhibit similar patterns, showing an initial sharp increase in late 2017, followed by a gradual decline and a long stabilization until late 2020. Another significant upward trend is observed in late 2020 to early 2021, reflecting a broader market rally. This trend is mirrored in the Marketcap, highlighting the growth in Cardano’s overall valuation during these periods.\n",
        "\n"
      ]
    },
    {
      "cell_type": "markdown",
      "metadata": {
        "id": "X_J1NO8AA2qu"
      },
      "source": [
        "### **Seasonality**\n",
        "No clear seasonality is visually evident in the price variables (High, Low, Open, Close). However, trading Volume shows sudden spikes in activity during key price rallies, suggesting potential event-driven behavior rather than regular seasonal patterns."
      ]
    },
    {
      "cell_type": "markdown",
      "metadata": {
        "id": "hSAwSnagA_ZO"
      },
      "source": [
        "### **Irregular Components**\n",
        "Significant irregularities are visible, particularly in the trading Volume and price movements during early 2018 and early 2021. These spikes correspond to periods of heightened market speculation and activity, with noticeable volatility in all metrics during these times."
      ]
    },
    {
      "cell_type": "markdown",
      "metadata": {
        "id": "hBbowQv9Bq1o"
      },
      "source": [
        "---\n",
        "\n",
        "## **3rd step: Stationarity check**\n",
        "\n",
        "\n",
        "For this step we will use the Augmented Dickey-Fuller (ADF) Test from the tseries package to test for stationarity in the time series data, on the close price column.\n",
        "\n",
        "---\n",
        "\n",
        "**PS**\n",
        "\n",
        "Our focus will be on the Close price column for the time series analysis, because in financial and cryptocurrency analysis, the Close price is often the most important metric because it represents the final price at which the asset traded during the day, reflecting market sentiment. Also, the Close price is widely used in technical analysis, forecasting, and decision-making because it summarizes the day's activity and is less noisy than other metrics like High or Low. Finally, applying transformations, stationarity tests, and models to every column can be redundant unless specific insights are needed from other columns. Focusing on Close simplifies the analysis and interpretation.\n",
        "\n",
        "---"
      ]
    },
    {
      "cell_type": "code",
      "execution_count": null,
      "metadata": {
        "id": "wNNSTWUiCHyZ",
        "vscode": {
          "languageId": "r"
        }
      },
      "outputs": [],
      "source": [
        "install.packages(c(\"tseries\"))"
      ]
    },
    {
      "cell_type": "code",
      "execution_count": null,
      "metadata": {
        "id": "mVpdgPkZA2X-",
        "vscode": {
          "languageId": "r"
        }
      },
      "outputs": [],
      "source": [
        "library(tseries)\n",
        "\n",
        "adf_test <- adf.test(data_tsibble$Close, alternative = \"stationary\")\n",
        "print(adf_test)"
      ]
    },
    {
      "cell_type": "markdown",
      "metadata": {
        "id": "ngKpf2egCniY"
      },
      "source": [
        "We can see from the adf_test results that the p-value is greater than 0.05. So, the series is non-stationary and needs transformation (differencing in our case)"
      ]
    },
    {
      "cell_type": "code",
      "execution_count": null,
      "metadata": {
        "id": "E-UcBBM3C3br",
        "vscode": {
          "languageId": "r"
        }
      },
      "outputs": [],
      "source": [
        "data_tsibble <- data_tsibble %>%\n",
        "  mutate(diff_close = difference(Close))\n",
        "\n",
        "autoplot(data_tsibble, diff_close) +\n",
        "  labs(\n",
        "    title = \"Differenced Close Price Over Time\",\n",
        "    x = \"Date\",\n",
        "    y = \"Differenced Close Price\"\n",
        "  )"
      ]
    },
    {
      "cell_type": "markdown",
      "metadata": {
        "id": "iwZG3LuYGNxW"
      },
      "source": [
        "We conduct the adf_test once again so we can see if the series transformed."
      ]
    },
    {
      "cell_type": "code",
      "execution_count": null,
      "metadata": {
        "id": "mJ7VnLqcFgQ5",
        "vscode": {
          "languageId": "r"
        }
      },
      "outputs": [],
      "source": [
        "adf_test_diff <- adf.test(na.omit(data_tsibble$diff_close), alternative = \"stationary\")\n",
        "print(adf_test_diff)\n"
      ]
    },
    {
      "cell_type": "markdown",
      "metadata": {
        "id": "AJof2rFIGEpH"
      },
      "source": [
        "After the differencing we can see that the p-value now is less than 0.05. So, the series now is stationary, as indicated from the plot above that the data are much more stable.\n",
        "\n",
        "---"
      ]
    },
    {
      "cell_type": "markdown",
      "metadata": {
        "id": "D6NLXWRVBSGA"
      },
      "source": [
        "## **4th step: ACF and PACF Analysis**\n",
        "\n",
        "For this section, we will need to implement an ACF plot, which helps identify the **MA (q)** component of an ARIMA model by showing where the autocorrelation drops off significantly. Also, we need to do the same for the PACF plot and in this case this will help us identify the **AR (p)** component, by showing where the autocorrelation becomes insignificant.\n",
        "\n",
        "We will use the feasts library for our work (already installed)."
      ]
    },
    {
      "cell_type": "code",
      "execution_count": null,
      "metadata": {
        "id": "Wm-NLYiWBPn-",
        "vscode": {
          "languageId": "r"
        }
      },
      "outputs": [],
      "source": [
        "data_tsibble %>%\n",
        "  ACF(diff_close) %>%\n",
        "  autoplot() +\n",
        "  labs(title = \"Autocorrelation Function (ACF) for Differenced Close Price\")"
      ]
    },
    {
      "cell_type": "code",
      "execution_count": null,
      "metadata": {
        "id": "wripCPe8DLjh",
        "vscode": {
          "languageId": "r"
        }
      },
      "outputs": [],
      "source": [
        "data_tsibble %>%\n",
        "  PACF(diff_close) %>%\n",
        "  autoplot() +\n",
        "  labs(title = \"Partial Autocorrelation Function (PACF) for Differenced Close Price\")"
      ]
    },
    {
      "cell_type": "markdown",
      "metadata": {
        "id": "7b3LIqXeFHc7"
      },
      "source": [
        "### **Plot Insights**\n",
        "The ACF and PACF plots for the stationary differenced Close series reveal the lag structure necessary for ARIMA model selection.\n",
        "\n",
        "* ACF plot:\n",
        "  \n",
        "  The ACF plot shows the autocorrelation at different lags and\n",
        "  we can observe that there are significant spikes at lag 1 and several subsequent lags. This suggests that there is presence of short term dependencies, indicating that the **Moving Average** component in the ARIMA model should include lags up to the first significant spike after the correlation begins dropping below the significance threshold.\n",
        "\n",
        "* PACF plot:\n",
        "\n",
        "  The PACF plot shows to us the the partial correlation at different lags, while controlling for the influence of intermediate lags. The observations to be discussed in this case are that there are significant spikes at lag 1 and possibly a few others and it suggests that the **Auto-Regressive** component (ARIMA model) should also consider lag 1.\n",
        "\n",
        "\n",
        "Based on these observations, initial ARIMA parameters can include **AR(1)** and **MA(1)** components, though further refinement may be needed during model fitting.\n",
        "\n",
        "---\n"
      ]
    },
    {
      "cell_type": "markdown",
      "metadata": {
        "id": "PnrJqtg0G-rB"
      },
      "source": [
        "## **5th step: Model Fitting**\n"
      ]
    },
    {
      "cell_type": "markdown",
      "metadata": {
        "id": "Evpz-1I2Ojbp"
      },
      "source": [
        "### **1. ARIMA implementation**\n",
        "\n",
        "An ARIMA model is fitted to the **Close** price series to capture the underlying temporal dependencies and trends. The **ARIMA()** function automatically selects the best combination of **p**, **d** and **q** parameters using AIC/BIC. The model is then used to forecast the next 30 days of **Close** prices and the forecast is visualized along with the historical data to observe predicted trends and confidence intervals."
      ]
    },
    {
      "cell_type": "code",
      "execution_count": null,
      "metadata": {
        "id": "71LgpSwAM8qO",
        "vscode": {
          "languageId": "r"
        }
      },
      "outputs": [],
      "source": [
        "install.packages(\"urca\")"
      ]
    },
    {
      "cell_type": "code",
      "execution_count": null,
      "metadata": {
        "id": "F8-a9l-DM-BZ",
        "vscode": {
          "languageId": "r"
        }
      },
      "outputs": [],
      "source": [
        "library(urca)"
      ]
    },
    {
      "cell_type": "code",
      "execution_count": null,
      "metadata": {
        "id": "e3jTPN7KMmHo",
        "vscode": {
          "languageId": "r"
        }
      },
      "outputs": [],
      "source": [
        "arima_model <- data_tsibble %>%\n",
        "  model(\n",
        "    ARIMA_model = ARIMA(Close)\n",
        "  )\n",
        "\n",
        "report(arima_model)"
      ]
    },
    {
      "cell_type": "code",
      "execution_count": null,
      "metadata": {
        "id": "_4Ur1HxIMqjO",
        "vscode": {
          "languageId": "r"
        }
      },
      "outputs": [],
      "source": [
        "forecast_arima <- arima_model %>%\n",
        "  forecast(h = \"30 days\")\n",
        "\n",
        "autoplot(forecast_arima, data_tsibble) +\n",
        "  labs(\n",
        "    title = \"ARIMA Model Forecast for Close Prices\",\n",
        "    x = \"Date\",\n",
        "    y = \"Close Price (USD)\"\n",
        "  )"
      ]
    },
    {
      "cell_type": "markdown",
      "metadata": {
        "id": "uk-p24ifOIJT"
      },
      "source": [
        "The residual variance $(sigma^2 = 0.00155)$ indicates a good fit with minimal error. Model selection criteria, including AIC (-4979.67) and BIC (-4953.55), confirm the model's balance between accuracy and complexity. The generated forecast extends the Close price predictions with 80% and 95% confidence intervals, highlighting increasing uncertainty over time while maintaining alignment with recent trends."
      ]
    },
    {
      "cell_type": "markdown",
      "metadata": {
        "id": "gwghj264OlMG"
      },
      "source": [
        "---\n",
        "\n",
        "### **2. SARIMA implementation**\n",
        "\n",
        "The SARIMA model extends ARIMA by incorporating seasonal components to account for cyclic patterns in the data. Here, a seasonal ARIMA model with parameters **(p, d, q)** for non-seasonal components and **(P, D, Q, s)** for seasonal components is fitted to the **Close** price series. A seasonal period of 12 is specified to account for yearly cyclic behavior. The fitted model is used to generate a 30-day forecast, which is visualized alongside the historical data.\n"
      ]
    },
    {
      "cell_type": "code",
      "execution_count": null,
      "metadata": {
        "id": "OzkupPi8O4Hk",
        "vscode": {
          "languageId": "r"
        }
      },
      "outputs": [],
      "source": [
        "sarima_model <- data_tsibble %>%\n",
        "  model(\n",
        "    SARIMA_model = ARIMA(Close ~ pdq(1, 1, 1) + PDQ(1, 1, 1, period = 12))\n",
        "  )\n",
        "\n",
        "report(sarima_model)"
      ]
    },
    {
      "cell_type": "code",
      "execution_count": null,
      "metadata": {
        "id": "I9_ieMaKO6qj",
        "vscode": {
          "languageId": "r"
        }
      },
      "outputs": [],
      "source": [
        "forecast_sarima <- sarima_model %>%\n",
        "  forecast(h = \"30 days\")\n",
        "\n",
        "autoplot(forecast_sarima, data_tsibble) +\n",
        "  labs(\n",
        "    title = \"SARIMA Model Forecast for Close Prices\",\n",
        "    x = \"Date\",\n",
        "    y = \"Close Price (USD)\"\n",
        "  )"
      ]
    },
    {
      "cell_type": "markdown",
      "metadata": {
        "id": "Gw0LB2bSPOaz"
      },
      "source": [
        "In this case, the residual variance $(sigma^2)$ indicates that the model has a low error and the forecast for the next period was visualized with 80% and 95% confidence intervals. The forecast reflects the current trend, with increasing uncertainty as the prediction horizon extends."
      ]
    },
    {
      "cell_type": "markdown",
      "metadata": {
        "id": "7X2eDLw3Pfvz"
      },
      "source": [
        "### **3. Model Comparison**\n",
        "\n",
        "In this section, we will try to identify the best-fitting model for our dataset. So a comparison is made between ARIMA and SARIMA models based on their AIC and BIC values. Lower AIC/BIC values indicate better model performance, with a balance between goodness-of-fit and model complexity.\n",
        "\n",
        "\n",
        "---\n",
        "\n",
        "**PS**\n",
        "\n",
        "We manually extract key metrics (AIC, BIC, sigma^2,...) and combine them into a table for comparison, because glance() or report() outputs are not returning directly comparable data, and bind_rows() or rbind() fail to align their structures.\n",
        "\n",
        "---"
      ]
    },
    {
      "cell_type": "code",
      "execution_count": null,
      "metadata": {
        "id": "-iwqazHAPrvx",
        "vscode": {
          "languageId": "r"
        }
      },
      "outputs": [],
      "source": [
        "arima_metrics <- data.frame(\n",
        "  Model = \"ARIMA(2,1,2)\",\n",
        "  AIC = -4979.67,\n",
        "  BIC = -4953.55,\n",
        "  Sigma2 = 0.00155\n",
        ")\n",
        "\n",
        "sarima_metrics <- data.frame(\n",
        "  Model = \"SARIMA(1,1,1)(1,1,1)[12]\",\n",
        "  AIC = -4893.22,\n",
        "  BIC = -4867.14,\n",
        "  Sigma2 = 0.001552\n",
        ")\n",
        "\n",
        "model_comparison <- rbind(arima_metrics, sarima_metrics)\n",
        "\n",
        "print(model_comparison)"
      ]
    },
    {
      "cell_type": "markdown",
      "metadata": {
        "id": "u99S-SCCRfFU"
      },
      "source": [
        "* **Insights**\n",
        "\n",
        "The table compares the ARIMA(2,1,2) and SARIMA(1,1,1)(1,1,1)[12] models based on key performance metrics. The ARIMA(2,1,2) model has a lower AIC (-4979.67) and BIC (-4953.55) compared to the SARIMA model (-4893.22 for AIC and -4867.14 for BIC), indicating that it provides a better fit to the data with fewer parameters. Both models have similar residual variances (sigma^2), suggesting that they explain the data with similar accuracy.\n",
        "\n",
        "However, the **ARIMA model** is preferred based on its lower complexity and better overall fit.\n",
        "\n",
        "---\n"
      ]
    },
    {
      "cell_type": "markdown",
      "metadata": {
        "id": "a3qRWU4iwCMC"
      },
      "source": [
        "## **6th step: Residual Diagnostics**"
      ]
    },
    {
      "cell_type": "markdown",
      "metadata": {
        "id": "SdEzGNzWwx7v"
      },
      "source": [
        "### **Residuals**\n",
        "\n",
        "Based on the findings from the previous step (5th step), the residuals diagnostics will be performed to assess the adequacy of the **ARIMA(2,1,2)** fitted model. In order to be a well-fitted model, it should produce residuals that resemble white noise, which means that they are uncorrelated and their distribution is normal. So, first we begin by plotting (visualization) the residuals to check if there are any patterns or deviations."
      ]
    },
    {
      "cell_type": "code",
      "execution_count": null,
      "metadata": {
        "id": "ei3kBbRTyVcS",
        "vscode": {
          "languageId": "r"
        }
      },
      "outputs": [],
      "source": [
        "arima_model %>%\n",
        "  gg_tsresiduals() +\n",
        "  labs(title = \"Residual Diagnostics for ARIMA(2,1,2) fitted model\")"
      ]
    },
    {
      "cell_type": "markdown",
      "metadata": {
        "id": "nvNKT6jN0ebr"
      },
      "source": [
        "From the plots above, we have 3 key insights into the model's residuals.\n",
        "\n",
        "* The top plot shows the residuals over time, where there are no obvious patterns or trends visible. This indicates that the residuals behave in a random way.\n",
        "\n",
        "* The bottom left plot displays the Auto-correlation function (ACF) of the residuals. We can see that most lags fall within the significance bounds. This suggests minimal auto-correlation. This of course will be elaborated further in the following query (Perform Ljung-Box test for autocorrelation).\n",
        "\n",
        "* The bottom left plot, finally, shows a histogram of the residuals, which are centered around zero, implying a normal distribution of the residuals.\n",
        "\n",
        "\n",
        "Together, all these plots validate that the model sufficiently captures the data's structure and leaves no systematic patterns unexplained."
      ]
    },
    {
      "cell_type": "markdown",
      "metadata": {
        "id": "Vc7P5bTB2dIO"
      },
      "source": [
        "### **ACF/PACF plots**\n",
        "\n",
        "In addition to visualizing the ACF plot in the query above, we find essential to confirm whether the residuals are truly resembling white noise. We will do this by checking both functions (ACF, PACF).\n",
        "\n",
        "While, the ACF plot above shows no significant autocorrelation in most of the lags, by plotting the PACF we will have further information and insights by isolating the direct effects of specific lags."
      ]
    },
    {
      "cell_type": "code",
      "execution_count": null,
      "metadata": {
        "id": "evuuFm2o3Jp-",
        "vscode": {
          "languageId": "r"
        }
      },
      "outputs": [],
      "source": [
        "arima_model %>%\n",
        "  residuals() %>%\n",
        "  PACF() %>%\n",
        "  autoplot() +\n",
        "  labs(title = \"PACF of Residuals for ARIMA(2,1,2) Model\")"
      ]
    },
    {
      "cell_type": "markdown",
      "metadata": {
        "id": "RSXjskSR3ndX"
      },
      "source": [
        "Now that we have the plot, we can see that while some lags seem to appear slightly outside of the significance bounds, their magnitudes are small and unlikely to affect the assumption that we made of white noise. This supports our previous statement (based on the ACF) that the residuals are uncorrelated sufficiently enough. So, it reinforces the validity of the **ARIMA** model for forecasting."
      ]
    },
    {
      "cell_type": "markdown",
      "metadata": {
        "id": "UULwedgF42eU"
      },
      "source": [
        "### **Ljung-Box test**\n",
        "\n",
        "The last thing that is left to do in order to ensure that our assumptions/statements are completely valid, is to perform the Ljung-Box test and evaluate its results."
      ]
    },
    {
      "cell_type": "code",
      "execution_count": null,
      "metadata": {
        "id": "3PGxrc025G-S",
        "vscode": {
          "languageId": "r"
        }
      },
      "outputs": [],
      "source": [
        "ljung_box_test <- arima_model %>%\n",
        "  augment() %>%\n",
        "  features(.resid, ljung_box, lag = 10, dof = 2)\n",
        "\n",
        "print(ljung_box_test)"
      ]
    },
    {
      "cell_type": "markdown",
      "metadata": {
        "id": "BzsxEyz15eiU"
      },
      "source": [
        "From the results we can see for our model (ARIMA), that the test-statistic is 31.8 and the p-value is 0.000103.\n",
        "\n",
        "Because the p-value is less than 0.05, meaning that we reject the null hypothesis that the residuals are uncorrelated. This result suggests the presence of significant autocorrelation in the residuals, indicating that the ARIMA model may not fully capture all patterns in the data."
      ]
    },
    {
      "cell_type": "markdown",
      "metadata": {
        "id": "Tp-lDCmi-A4t"
      },
      "source": [
        "### **Conclusion**\n",
        "\n",
        "* From the previous step, the AIC and BIC favored the ARIMA(2,1,2) model over the SARIMA model due to its lower values which indicate better fit and simplicity. The residual variance was almost identical for both models, not a metric to be evaluated. Based on these results, selecting the ARIMA model was valid.\n",
        "\n",
        "* The ACF/PACF of the residuals visually showed minimal autocorrelation. Most values were within confidence bounds that suggests the residuals resemble white noise.\n",
        "\n",
        "* The residuals plot also showed no patterns or trends, reinforcing the findings of ACF/PACF.\n",
        "\n",
        "* The Ljung-Box test on the other hand, found significant autocorrelation $(p << 0.05)$, that contradicts our previous findings.\n",
        "\n",
        "This discrepancy does not mean that we made a mistake in selecting ARIMA, it highlights subtle differences in the approaches. The ACF/PACF are visual tools that show autocorrelation at **individual lags**. Hence, they might miss cumulative autocorrelation across multiple lags, which Ljang-Box test detects. The Ljung-Box test aggregates autocorrelation over multiple lags and even small,insignificant autocorrelations at individual lags can combine to produce a statistically significant result.\n",
        "\n",
        "So, we did not make a mistake choosing the ARIMA model, it was based on valid criteria. Instead, the Ljung-Box test result does not invalidate our earlier decision and it highlights that the ARIMA model is likely adequate for many purposes. But, because the white noise is not required we will continue without further adjustments.\n",
        "\n",
        "**While the model is close, it does not fully capture all patterns in the data, leaving some systematic structure in the residuals.**\n",
        "\n",
        "---"
      ]
    },
    {
      "cell_type": "markdown",
      "metadata": {
        "id": "KoxRRLihBATd"
      },
      "source": [
        "## **7th step: Forecasting**"
      ]
    },
    {
      "cell_type": "markdown",
      "metadata": {
        "id": "kRb2t-pvBFxV"
      },
      "source": [
        "Using the ARIMA fitted model, we will generate a forecast for the next 12 periods. The forecast includes both point estimates and confidence intervals to account for uncertainty in the predictions. We will also plot it to observe the results."
      ]
    },
    {
      "cell_type": "code",
      "execution_count": null,
      "metadata": {
        "id": "Xrrh7B_lA_6B",
        "vscode": {
          "languageId": "r"
        }
      },
      "outputs": [],
      "source": [
        "arima_forecast <- arima_model %>%\n",
        "  forecast(h = 12)"
      ]
    },
    {
      "cell_type": "code",
      "execution_count": null,
      "metadata": {
        "id": "eQ3kTUykGBRD",
        "vscode": {
          "languageId": "r"
        }
      },
      "outputs": [],
      "source": [
        "autoplot(arima_forecast) +\n",
        "  labs(\n",
        "    title = \"ARIMA Model Forecast for Close Prices\",\n",
        "    x = \"Date\",\n",
        "    y = \"Close Price (USD)\"\n",
        "  )"
      ]
    },
    {
      "cell_type": "markdown",
      "metadata": {
        "id": "rsMgoLCKGdla"
      },
      "source": [
        "The forecast plot shows predicted **Close** prices for h = 12 periods, along with 80% and 95% confidence intervals. As expected, the confidence intervals widen as we forecast further into the future, reflecting increasing uncertainty. The model captures the underlying trend of the data and provides a reliable short-term forecast, with tighter intervals in the near term and broader intervals further out. This behavior aligns with typical time series forecasting models, where prediction accuracy diminishes over longer horizons.\n",
        "\n",
        "---"
      ]
    },
    {
      "cell_type": "markdown",
      "metadata": {
        "id": "yy6I6_OGHarN"
      },
      "source": [
        "## **8th step: Model Evaluation**"
      ]
    },
    {
      "cell_type": "markdown",
      "metadata": {
        "id": "E3HBxLM_Hfsu"
      },
      "source": [
        "In order to evaluate the accuracy of the ARIMA(2,1,2) model, our dataset is split into training and testing sets. The model is trained on historical data (before July 2021) and tested on the remaining observations. Forecasted values for the test period are compared against the actual values using metrics such as MAE, MSE, and MAPE."
      ]
    },
    {
      "cell_type": "code",
      "execution_count": null,
      "metadata": {
        "id": "SsyS2AtUI317",
        "vscode": {
          "languageId": "r"
        }
      },
      "outputs": [],
      "source": [
        "train_data <- data %>%\n",
        "  filter(Date < as.Date(\"2021-07-01\"))\n",
        "test_data <- data %>%\n",
        "  filter(Date >= as.Date(\"2021-07-01\"))"
      ]
    },
    {
      "cell_type": "code",
      "execution_count": null,
      "metadata": {
        "id": "SsCv4pI6I9iE",
        "vscode": {
          "languageId": "r"
        }
      },
      "outputs": [],
      "source": [
        "train_tsibble <- train_data %>%\n",
        "  as_tsibble(index = Date)\n",
        "\n",
        "arima_model_train <- train_tsibble %>%\n",
        "  model(ARIMA(Close))"
      ]
    },
    {
      "cell_type": "code",
      "execution_count": null,
      "metadata": {
        "id": "g75JCKRWJAJL",
        "vscode": {
          "languageId": "r"
        }
      },
      "outputs": [],
      "source": [
        "test_forecast <- arima_model_train %>%\n",
        "  forecast(h = nrow(test_data))"
      ]
    },
    {
      "cell_type": "code",
      "execution_count": null,
      "metadata": {
        "id": "N6VY4tH4JnpZ",
        "vscode": {
          "languageId": "r"
        }
      },
      "outputs": [],
      "source": [
        "forecast_vs_actual <- forecast_vs_actual %>%\n",
        "  rename(\n",
        "    actual = Close.y,\n",
        "    predicted = .mean\n",
        "  )\n",
        "\n",
        "metrics <- forecast_vs_actual %>%\n",
        "  summarise(\n",
        "    MAE = mean(abs(predicted - actual), na.rm = TRUE),\n",
        "    MSE = mean((predicted - actual)^2, na.rm = TRUE),\n",
        "    MAPE = mean(abs((predicted - actual) / actual), na.rm = TRUE) * 100\n",
        "  )\n",
        "\n",
        "print(metrics)"
      ]
    },
    {
      "cell_type": "markdown",
      "metadata": {
        "id": "b8XcA-DmJyY0"
      },
      "source": [
        "### **Evaluation Part**\n",
        "\n",
        "* **Mean Absolute Error = 0.0311**\n",
        "\n",
        "  This indicates that on average the model's predictions deviate from the actual values by approx 0.0311 USD, which is a reasonably low error for a time series of this kind.\n",
        "\n",
        "* **Mean Squared Error = 0.00151**\n",
        "\n",
        "  This metric reflects the average squared difference between predicted and actual values. The low value of MSE confirms that the model does not produce large prediction errors.\n",
        "\n",
        "* **Mean Absolute Percentage Error = 2.22%**\n",
        "  \n",
        "  The predictions of the model have an average error of 2.22% relative to the actual close prices, which  suggests that the model is fairly accurate for forecasting.\n",
        "\n",
        "Our model performs well, as evidenced by the low MAE, MSE, and MAPE values. A MAPE of 2.22% indicates that the model provides highly reliable forecasts for close prices, with errors remaining within a small percentage range. These results validate the choice of the ARIMAmodel as a robust forecasting method for our dataset.\n",
        "\n",
        "---"
      ]
    },
    {
      "cell_type": "markdown",
      "metadata": {
        "id": "KhnUm-LDLSzO"
      },
      "source": [
        "## **9th step: Insights and Recommendations**"
      ]
    },
    {
      "cell_type": "markdown",
      "metadata": {
        "id": "hl1o5DBiLip7"
      },
      "source": [
        "### **Insights**\n",
        "\n",
        "The time series analysis and forecasting for Cardano's (ADA) cryptocurrency prices provided valuable insights into the dataset and the forecasting model's performance.\n",
        "\n",
        "* The data exhibited significant **trends**, particularly a stready growth in 2020 and 2021, alongside some periods of volatility. Also, there were no missing values or significant outliers, which ensures our dataset's integrity.\n",
        "\n",
        "* The **ARIMA(2,1,2)** model was selected over SARIMA based on AIC and BIC values. This model demonstrated lower complexity and provided a better fit for our data.\n",
        "\n",
        "* While the residual and ACF,PACF plots showed small autocorrelation, the Ljung-Box test identified slight remaining autocorrelation, suggesting the model does not capture perfectly all the existing patterns.\n",
        "\n",
        "* The model performed well with low **MAE(0.0311), MSE(0.00151), MAPE (2.22%)**, indicating that it is suitable for accurate short-term forecasts."
      ]
    },
    {
      "cell_type": "markdown",
      "metadata": {
        "id": "2w-W3FU9Nx4P"
      },
      "source": [
        "### **Practical Implications**\n",
        "\n",
        "The forecasts could be valuable for several areas, like **investment decisions** because short-term forecasts of close prices can assist investors in planning entry or exit points for Cardano trading, while confidence intervals help quantify the level of uncertainty so it can enable more informed decisions. Also, for the **market analysis**, the interested can use the forecasts to predict market trends and assess potential risks. Finally, for the **Portfolio Risk Management**, the predictive modeling we achieved helps identify periods of high volatility, allowing traders to adjust their strategies accordingly in order to minimize risk."
      ]
    },
    {
      "cell_type": "markdown",
      "metadata": {
        "id": "8Z5bdQ7BOlyV"
      },
      "source": [
        "### **Recommendations**\n",
        "\n",
        "* One thing we could do is to **refine the model**, by exploring other models, such as SARIMA or seasonal decomposition, so we can address the residual autocorrelation.\n",
        "* Also we could **incorporate additional variables**, by including external factors such as trading volume, macroeconomic data, or market sentiment for more robust forecasting.\n",
        "* In addition, we recommend to **evaluate the robustness of the model**, by testing it under different scenarios or using rolling windows to evaluate performance across changing market conditions.\n",
        "* Finally, of course an extension of the analysis would be helpful. We could expand beyond close prices to analyze correlations between features like volume and market cap, which could reveal additional insights, but in order for this project to not be huge, we focused on this particular feature only.\n",
        "\n",
        "---"
      ]
    },
    {
      "cell_type": "markdown",
      "metadata": {
        "id": "X6DV1bUIP9Dy"
      },
      "source": [
        "## **Optional Part 1: Compare ARIMA with LSTM**"
      ]
    },
    {
      "cell_type": "markdown",
      "metadata": {
        "id": "lWgYVLl0QGhq"
      },
      "source": [
        "* We compare ARIMA with Machine Learning models, because ARIMA is a statistical model that assumes linearity and works well with stationary data and LSTM Handles non-linear relationships and captures long-term dependencies, making it effective for highly volatile or non-stationary data."
      ]
    },
    {
      "cell_type": "markdown",
      "metadata": {
        "id": "P-rzj882WgA3"
      },
      "source": [
        "* From the other notebook included in the folder, where we implement the LSTM method in Python we get the following results:\n",
        "\n",
        "      LSTM Performance:\n",
        "        MAE: 0.0826772090586892\n",
        "        MSE: 0.016701765234936196\n",
        "        MAPE: 8.617872990817393%\n",
        "\n",
        "\n",
        "![Unknown-15.png](data:image/png;base64,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)"
      ]
    },
    {
      "cell_type": "markdown",
      "metadata": {
        "id": "7IgCascRXPj5"
      },
      "source": [
        "### **Results Description**"
      ]
    },
    {
      "cell_type": "markdown",
      "metadata": {
        "id": "2SgbVdFCXYuK"
      },
      "source": [
        "We begin with the plot. It illustrates the comparison between the actual close prices of Cardano (ADA) and the predicted close prices generated by the LSTM model.\n",
        "\n",
        "The LSTM model closely tracks the overall trend and volatility of the actual prices, although some deviations are observed in regions of high fluctuation.\n",
        "\n",
        "Then we examine the evaluation metrics for the LSTM model which are:\n",
        "\n",
        "* Mean Absolute Error (MAE): 0.0827\n",
        "\n",
        "  This indicates that, on average, the LSTM predictions deviate from the actual values by approximately 0.0827 USD.\n",
        "\n",
        "* Mean Squared Error (MSE): 0.0167\n",
        "\n",
        "  The average squared error is relatively low, reflecting that large deviations between the predicted and actual values are limited.\n",
        "\n",
        "* Mean Absolute Percentage Error (MAPE): 8.62%\n",
        "\n",
        "  On average, the LSTM predictions are off by 8.62% of the actual values, which is higher than ARIMA's MAPE of 2.22%."
      ]
    },
    {
      "cell_type": "markdown",
      "metadata": {
        "id": "d5oNU7XnX1EN"
      },
      "source": [
        "### **Comparison to ARIMA**"
      ]
    },
    {
      "cell_type": "markdown",
      "metadata": {
        "id": "wtlqwKi6X3t2"
      },
      "source": [
        "* **Accuracy**: The ARIMA method outperformed LSTM, evidenced by its lower MAPE(2.22% to 8.62%). This suggests that the ARIMA provided more accurate forecasts for the Close price in our dataset.\n",
        "\n",
        "* **Trend-following ability**: The LSTM plot is good in capturing overall trends and long-term dependencies, performing well in periods of stable growth or gradual changes. However, LSTM struggles slightly in regions of high volatility, where ARIMA can offer better short-term precision due to its statistical nature.\n",
        "\n",
        "* **Model Complexity**: The ARIMA model is easier to implement and interpret, requiring fewer computational resources, while LSTM requires more data preprocessing, hyperparameter tuning, and computational power.\n",
        "\n",
        "---\n",
        "\n",
        "**Conclusion**\n",
        "\n",
        "In our case the ARIMA model is superior due to its higher accuracy and simplicity. Although, LSTM shows promise in capturing trends and may perform better with additional data or hyperparameter tuning, with all things considered we prefer the ARIMA."
      ]
    }
  ],
  "metadata": {
    "colab": {
      "private_outputs": true,
      "provenance": [],
      "toc_visible": true
    },
    "kernelspec": {
      "display_name": "R",
      "name": "ir"
    },
    "language_info": {
      "name": "R"
    }
  },
  "nbformat": 4,
  "nbformat_minor": 0
}
